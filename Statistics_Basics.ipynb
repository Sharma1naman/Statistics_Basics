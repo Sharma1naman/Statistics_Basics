{
  "nbformat": 4,
  "nbformat_minor": 0,
  "metadata": {
    "colab": {
      "provenance": []
    },
    "kernelspec": {
      "name": "python3",
      "display_name": "Python 3"
    },
    "language_info": {
      "name": "python"
    }
  },
  "cells": [
    {
      "cell_type": "markdown",
      "source": [
        "#Statistics Basics"
      ],
      "metadata": {
        "id": "_MLg-wKJqF8J"
      }
    },
    {
      "cell_type": "markdown",
      "source": [
        "##Theoretical Questions"
      ],
      "metadata": {
        "id": "55NViyn3qQZ8"
      }
    },
    {
      "cell_type": "markdown",
      "source": [
        "**Question 1.** What is statistics, and why is it important?\n",
        "  - **Statistics** is a branch of mathematics that deals with the collection, organization, analysis, interpretation, and presentation of data. It provides tools and techniques for making sense of data, allowing researchers and analysts to uncover patterns, test hypotheses, and make informed decisions. In essence, statistics helps transform raw data into meaningful information.\n",
        "\n",
        "  The importance of statistics lies in its wide applicability across numerous fields such as economics, medicine, engineering, social sciences, business, and more. It allows organizations to make evidence-based decisions, predict future trends, assess risks, and measure performance. For example, in public health, statistical methods are used to determine the effectiveness of treatments or track the spread of diseases. In business, companies rely on statistics to understand customer behavior, optimize operations, and increase profitability. Overall, statistics is a foundational tool for turning data into actionable knowledge."
      ],
      "metadata": {
        "id": "sne5C_mpqUfM"
      }
    },
    {
      "cell_type": "markdown",
      "source": [
        "**Question 2.** What are the two main types of statistics?\n",
        "   - The two main types of statistics are **Descriptive Statistics** and **Inferential Statistics**, each serving a distinct purpose in data analysis.\n",
        "\n",
        "    **Descriptive Statistics** involves summarizing and organizing data so it can be easily understood. This includes the use of measures such as mean, median, mode (measures of central tendency), and range, variance, or standard deviation (measures of dispersion). It may also involve the use of tables, charts, and graphs to visually represent the data. Descriptive statistics are used when the goal is to describe the features of a specific dataset without making conclusions beyond the data at hand.\n",
        "\n",
        "    **Inferential Statistics**, on the other hand, deals with making predictions or inferences about a larger population based on a sample of data. It uses techniques such as hypothesis testing, confidence intervals, and regression analysis. Inferential statistics help determine relationships between variables, test theories, and make decisions under uncertainty. For instance, instead of surveying an entire country, a small sample can be analyzed, and inferential statistics can be used to generalize the findings to the broader population.\n",
        "\n",
        "  Together, these two types of statistics form the foundation of statistical analysis and are essential for understanding and interpreting data in research and practical applications."
      ],
      "metadata": {
        "id": "w0LFueDOrDcm"
      }
    },
    {
      "cell_type": "markdown",
      "source": [
        "**Question 3.** What are descriptive statistics?\n",
        "  - **Descriptive Statistics** involves summarizing and organizing data so it can be easily understood. This includes the use of measures such as mean, median, mode (measures of central tendency), and range, variance, or standard deviation (measures of dispersion). It may also involve the use of tables, charts, and graphs to visually represent the data. Descriptive statistics are used when the goal is to describe the features of a specific dataset without making conclusions beyond the data at hand.\n"
      ],
      "metadata": {
        "id": "Oa6aDLmfr-DY"
      }
    },
    {
      "cell_type": "markdown",
      "source": [
        "**Question 4.** What is inferential statistics?\n",
        "  - **Inferential Statistics**, deals with making predictions or inferences about a larger population based on a sample of data. It uses techniques such as hypothesis testing, confidence intervals, and regression analysis. Inferential statistics help determine relationships between variables, test theories, and make decisions under uncertainty. For instance, instead of surveying an entire country, a small sample can be analyzed, and inferential statistics can be used to generalize the findings to the broader population."
      ],
      "metadata": {
        "id": "-a4Ide_Mscyl"
      }
    },
    {
      "cell_type": "markdown",
      "source": [
        "**Question 5.** What is sampling in statistics?\n",
        "  - **Sampling in statistics** is the process of selecting a subset, or **sample**, from a larger group, known as the **population**, to study and make inferences about the entire group. Since it is often impractical, time-consuming, or costly to collect data from every individual in a population, sampling provides a practical and efficient solution.\n",
        "\n",
        "  Sampling is crucial because the quality of the conclusions drawn about the population depends heavily on the representativeness of the sample. A well-chosen sample can yield accurate, reliable, and generalizable results, while a poorly chosen one can lead to bias and incorrect conclusions. Hence, understanding and applying proper sampling techniques is fundamental in statistical analysis."
      ],
      "metadata": {
        "id": "EoOnyLx7s2k1"
      }
    },
    {
      "cell_type": "markdown",
      "source": [
        "**Question 6.** What are the different types of sampling methods?\n",
        "  - There are various sampling methods used depending on the purpose and nature of the study. These include **random sampling**, where every member of the population has an equal chance of being selected, and **systematic sampling**, where samples are chosen at regular intervals. Other types include **stratified sampling**, which involves dividing the population into subgroups and sampling from each, and **cluster sampling**, where entire groups or clusters are selected randomly."
      ],
      "metadata": {
        "id": "qObyaFTPtrOX"
      }
    },
    {
      "cell_type": "markdown",
      "source": [
        "**Question 7.** What is the difference between random and non-random sampling?\n",
        "  - The main difference between random sampling and non-random sampling lies in how the elements of a population are selected for inclusion in the sample, and this difference significantly affects the reliability and generalizability of the results.\n",
        "\n",
        "  Random sampling, also known as probability sampling, involves selecting individuals in such a way that each member of the population has a known and typically equal chance of being included in the sample. This method reduces bias and allows for statistical inference about the entire population. Common types of random sampling include simple random sampling, systematic sampling, stratified sampling, and cluster sampling. Because the selection is based on chance, random sampling tends to produce samples that are representative of the population, thereby supporting more accurate and generalizable conclusions.\n",
        "\n",
        "  Non-random sampling, or non-probability sampling, does not give every individual in the population a known or equal chance of being selected. Instead, it relies on the judgment of the researcher or on convenience. Types of non-random sampling include convenience sampling, judgmental or purposive sampling, quota sampling, and snowball sampling. While easier and quicker to conduct, non-random sampling can introduce bias, making it harder to generalize the findings to the broader population.\n",
        "\n",
        "  In summary, random sampling is more scientifically rigorous and suitable for making inferences, while non-random sampling is often used when time, access, or resources are limited but comes at the cost of reduced reliability and generalizability.\n",
        "\n",
        "\n",
        "\n",
        "\n",
        "\n",
        "\n",
        "\n"
      ],
      "metadata": {
        "id": "dNOl-m3OuH-a"
      }
    },
    {
      "cell_type": "markdown",
      "source": [
        "**Question 8.** Define and give examples of qualitative and quantitative data.\n",
        "\n",
        "  - Qualitative data and quantitative data are two fundamental types of data used in statistics, each representing different forms of information and serving different analytical purposes.\n",
        "\n",
        "  Qualitative data, also known as categorical data, refers to non-numerical information that describes qualities or characteristics. This type of data is typically used to classify items into categories based on attributes or labels. Examples of qualitative data include gender (male, female, non-binary), marital status (single, married, divorced), eye color (blue, brown, green), or types of cuisine (Italian, Chinese, Indian). Qualitative data can be further divided into nominal data (categories without any natural order) and ordinal data (categories with a meaningful order, such as rankings or levels of satisfaction).\n",
        "\n",
        "  Quantitative data, on the other hand, refers to numerical information that can be measured and quantified. It represents quantities and allows for mathematical operations and statistical analysis. Examples of quantitative data include age (25 years), height (170 cm), income (₹50,000), number of siblings (2), or test scores (85 out of 100). Quantitative data can be further classified into discrete data (countable values like the number of students) and continuous data (measurable values within a range, like temperature or weight).\n",
        "\n",
        "  In essence, qualitative data helps answer questions like “what kind?” or “which category?”, while quantitative data answers “how much?”, “how many?”, or “how often?”. Both types are essential for comprehensive data analysis and are often used together in research to provide a full picture.\n",
        "\n",
        "\n",
        "\n",
        "\n",
        "\n",
        "\n",
        "\n"
      ],
      "metadata": {
        "id": "gvsstxfYu6on"
      }
    },
    {
      "cell_type": "markdown",
      "source": [
        "**Question 9.** What are the different types of data in statistics?\n",
        "\n",
        "  - In statistics, data is classified into different types based on its nature and the kind of analysis it supports. Broadly, data is categorized into qualitative (categorical) and quantitative (numerical) types, which are further divided into more specific levels:\n",
        "\n",
        "   1. **Qualitative (Categorical) Data**\n",
        "      \n",
        "      This type of data represents categories or labels and cannot be measured numerically.\n",
        "\n",
        "         * **Nominal Data:** These are categories without any inherent order.\n",
        "Examples: Blood group (A, B, AB, O), gender (male, female), religion (Hindu, Muslim, Christian).\n",
        "\n",
        "         * **Ordinal Data:** These have a meaningful order or ranking but the intervals between ranks are not uniform.\n",
        "Examples: Education level (high school, undergraduate, postgraduate), customer satisfaction (low, medium, high).\n",
        "\n",
        "   2. **Quantitative (Numerical) Data**\n",
        "\n",
        "     This type of data consists of numerical values that can be measured or counted.\n",
        "\n",
        "       * **Discrete Data:** These are countable numbers, typically whole numbers.\n",
        "Examples: Number of students in a class, number of cars in a parking lot.\n",
        "\n",
        "       * **Continuous Data:** These can take any value within a range and are measurable.\n",
        "Examples: Height (e.g., 165.3 cm), weight (e.g., 70.5 kg), temperature (e.g., 36.6°C).\n",
        "\n",
        "  Understanding these types of data is crucial because it influences the choice of statistical methods and the type of graphs or visualizations used. For instance, bar charts are used for categorical data, while histograms are suitable for continuous numerical data."
      ],
      "metadata": {
        "id": "G3kYTWXXvc2P"
      }
    },
    {
      "cell_type": "markdown",
      "source": [
        "**Question 10.** Explain nominal, ordinal, interval, and ratio levels of measurement.\n",
        "  - In statistics, the levels of measurement describe the nature of data and determine which statistical methods are appropriate. There are four levels: nominal, ordinal, interval, and ratio, each providing different degrees of detail and mathematical usability.\n",
        "\n",
        "    1. Nominal Level\n",
        "       \n",
        "       The nominal level represents data that consists of categories or names without any inherent order or ranking. The only meaningful operation is classification or counting.\n",
        "\n",
        "       **Characteristics:** Labels, no order, no arithmetic.\n",
        "\n",
        "       **Examples:** Blood type (A, B, AB, O), gender (male, female), nationality (Indian, American).\n",
        "\n",
        "       **Statistical operations:** Mode, frequency.\n",
        "\n",
        "   2. Ordinal Level\n",
        "      \n",
        "      Ordinal data includes categories that are ranked or ordered, but the differences between the ranks are not meaningful or consistent.\n",
        "\n",
        "      **Characteristics:** Ordered categories, unequal intervals.\n",
        "\n",
        "      **Examples:** Customer satisfaction (satisfied, neutral, dissatisfied), education level (high school, college, graduate).\n",
        "\n",
        "      **Statistical operations:** Median, percentiles, non-parametric tests.\n",
        "\n",
        "   3. Interval Level\n",
        "\n",
        "     Interval data is numerical and the differences between values are meaningful, but there is no true zero point, meaning zero does not indicate the absence of a quantity.\n",
        "\n",
        "     **Characteristics:** Ordered, equal intervals, no true zero.\n",
        "\n",
        "     **Examples:** Temperature in Celsius or Fahrenheit, IQ scores.\n",
        "\n",
        "     **Statistical operations:** Mean, standard deviation, correlation. Ratios are not meaningful (e.g., 20°C is not \"twice as hot\" as 10°C).\n",
        "\n",
        "   4. Ratio Level\n",
        "     \n",
        "     Ratio data has all the properties of interval data, but it also has a true zero point, which allows for meaningful ratios.\n",
        "\n",
        "     **Characteristics:** Ordered, equal intervals, true zero.\n",
        "\n",
        "     **Examples:** Height, weight, age, income, distance.\n",
        "\n",
        "     **Statistical operations:** All statistical methods, including geometric mean and coefficient of variation.\n",
        "\n",
        "   Understanding these levels helps in choosing correct visualization and analysis techniques.\n"
      ],
      "metadata": {
        "id": "9zNzP9z6wV4f"
      }
    },
    {
      "cell_type": "markdown",
      "source": [
        "**Question 11.** What is the measure of central tendency?\n",
        "  - A measure of central tendency is a statistical value that identifies the center or typical value within a dataset. It provides a single representative number that summarizes the entire data distribution, making it easier to understand and interpret the data. The three most common measures of central tendency are the mean, median, and mode.\n",
        "\n"
      ],
      "metadata": {
        "id": "lqI1QEYtyHHh"
      }
    },
    {
      "cell_type": "markdown",
      "source": [
        "**Question 12.** Define mean, median, and mode.\n",
        "\n",
        "  - **Mean** (or average) is calculated by summing all the values in the dataset and dividing by the number of values. It is sensitive to extreme values or outliers, which can skew the result.\n",
        "\n",
        "  - **Median** is the middle value when the data is arranged in ascending or descending order. If the number of observations is even, it is the average of the two middle values. The median is less affected by outliers and skewed data, making it a better measure in such cases.\n",
        "\n",
        "  - **Mode** is the value that occurs most frequently in the dataset. A dataset can have no mode, one mode (unimodal), or more than one mode (bimodal or multimodal), and it is especially useful for categorical data."
      ],
      "metadata": {
        "id": "bHoJk3Wwy1BR"
      }
    },
    {
      "cell_type": "markdown",
      "source": [
        "**Question 13.** What is the significance of the measure of central tendency?\n",
        "\n",
        "  - The measure of central tendency is significant in statistics because it provides a summary value that represents the center or average of a dataset. This central value is crucial for understanding the overall distribution of the data and for comparing different datasets or populations. Its importance lies in several key areas:\n",
        "\n",
        "     - **Simplifies Data Interpretation:** By reducing a large amount of data to a single representative value (mean, median, or mode), it makes complex datasets easier to understand and communicate.\n",
        "\n",
        "     - **Supports Decision Making:** In fields like business, economics, education, and healthcare, central tendency helps stakeholders make informed decisions. For example, the average income of a region can guide policy decisions, or the median test score can reflect student performance.\n",
        "\n",
        "     - **Basis for Further Analysis:** Measures of central tendency serve as the foundation for many advanced statistical analyses. They are often used as a reference point in calculations of variability (like standard deviation) and in inferential statistics.\n",
        "\n",
        "     - **Identifies Trends and Patterns:** Central tendency helps identify general trends in data, such as the most frequent customer preference or the typical production output of a factory.\n",
        "\n",
        "     - **Comparison Across Groups:** It allows for meaningful comparisons between different groups or time periods. For instance, comparing the average temperature over different years can help identify climate trends.\n",
        "\n",
        "  In summary, the measure of central tendency is essential for summarizing data, making comparisons, and drawing meaningful conclusions. It acts as a starting point for data analysis and supports effective communication and decision-making in both academic and practical contexts.\n",
        "\n",
        "\n",
        "\n",
        "\n",
        "\n",
        "\n",
        "\n"
      ],
      "metadata": {
        "id": "_CukMsE-zzCR"
      }
    },
    {
      "cell_type": "markdown",
      "source": [
        "**Question 14.** What is variance, and how is it calculated?\n",
        "\n",
        "  - Variance is a measure of how much the data points in a dataset spread out from their mean (average).\n",
        "\n",
        "     Calculation steps:\n",
        "\n",
        "     1. Calculate the mean (average):\n",
        "   mean = (1/n) * sum of all data points\n",
        "   mean = (1/n) * Σ x_i\n",
        "\n",
        "    2. Calculate the squared differences from the mean for each data point:\n",
        "   squared_difference = (x_i - mean)^2\n",
        "\n",
        "    3. Calculate variance as the average of these squared differences:\n",
        "\n",
        "      For population variance (when data is the entire population):\n",
        "   variance = (1/n) * Σ (x_i - mean)^2\n",
        "\n",
        "      For sample variance (when data is a sample from the population):\n",
        "   variance = (1/(n-1)) * Σ (x_i - mean)^2\n",
        "\n",
        "   Notes:\n",
        "- n = number of data points\n",
        "- x_i = each data point\n",
        "- mean = average of data points\n",
        "- Dividing by (n-1) in sample variance corrects bias in estimation.\n",
        "\n",
        "\n"
      ],
      "metadata": {
        "id": "5iAxtvxO1CEG"
      }
    },
    {
      "cell_type": "markdown",
      "source": [
        "**Question 15.** What is standard deviation, and why is it important?\n",
        "  - Standard Deviation is a measure of how spread out the values in a dataset are around the mean (average).\n",
        "\n",
        "It is calculated as the square root of the variance.\n",
        "\n",
        "Formulas:\n",
        "\n",
        "1. Population Standard Deviation:\n",
        "   σ = sqrt( (1/n) * Σ (x_i - mean)^2 )\n",
        "\n",
        "2. Sample Standard Deviation:\n",
        "   s = sqrt( (1/(n - 1)) * Σ (x_i - mean)^2 )\n",
        "\n",
        "Where:\n",
        "- x_i = each data point\n",
        "- mean = average of the dataset\n",
        "- n = total number of data points\n",
        "- Σ = summation symbol\n",
        "- σ = population standard deviation\n",
        "- s = sample standard deviation\n",
        "\n",
        "Why is it Important?\n",
        "\n",
        "- It tells us how much the data varies from the mean.\n",
        "- A small standard deviation indicates that the data points are close to the mean.\n",
        "- A large standard deviation shows that the data points are spread out over a wide range.\n",
        "- It helps in understanding data consistency and reliability.\n",
        "- It's widely used in statistics, finance, quality control, and data analysis.\n",
        "\n",
        "Example:\n",
        "If a class has a test average of 75 and a low standard deviation, most students scored near 75.\n",
        "If the standard deviation is high, students’ scores varied widely from the average.\n"
      ],
      "metadata": {
        "id": "9OJWTbJkyHRP"
      }
    },
    {
      "cell_type": "markdown",
      "source": [
        "**Question 16.** Define and explain the term range in statistics.\n",
        "  - Definition:\n",
        "The **range** is a measure of dispersion in statistics. It shows the difference between the highest and lowest values in a dataset.\n",
        "\n",
        "  Formula:\n",
        "  Range = Maximum value - Minimum value\n",
        "\n",
        "  Explanation:\n",
        "- The range gives a quick sense of how spread out the data is.\n",
        "- It is the simplest measure of variability.\n",
        "- It is easy to calculate but can be affected by outliers (extremely high or low values).\n",
        "\n",
        "\n",
        "  Example:\n",
        "  Dataset = [10, 15, 20, 25, 30]\n",
        "  Range = 30 - 10 = 20\n",
        "\n",
        "  So, the values in the dataset span a range of 20 units.\n",
        "\n",
        "  Key Point:\n",
        "While range gives a basic idea of spread, it doesn't provide information about the distribution of values within the dataset.\n"
      ],
      "metadata": {
        "id": "I5FGKU9mylpv"
      }
    },
    {
      "cell_type": "markdown",
      "source": [
        "**Question 17.**  What is the difference between variance and standard deviation?\n",
        "  - Variance and standard deviation are both measures of dispersion in statistics that describe how spread out the data values are from the mean. Variance is calculated by taking the average of the squared differences between each data point and the mean. Because it squares these differences, variance emphasizes larger deviations more than smaller ones, and its unit is the square of the original data unit (e.g., meters², seconds²), which can sometimes make interpretation less intuitive.\n",
        "\n",
        "  Standard deviation, on the other hand, is simply the square root of the variance. By taking the square root, standard deviation brings the measure of spread back to the same unit as the original data, making it easier to understand and compare. While both metrics reflect variability, standard deviation is generally preferred for practical interpretation, especially when comparing variability across datasets with the same units.\n",
        "\n"
      ],
      "metadata": {
        "id": "yOHu22MxzQge"
      }
    },
    {
      "cell_type": "markdown",
      "source": [
        "**Question 18.** What is skewness in a dataset?\n",
        "\n",
        "   -Skewness is a statistical measure that describes the asymmetry of the distribution of values in a dataset around its mean.\n",
        "\n",
        "\n",
        "   Types of Skewness:\n",
        "1. **Positive Skew (Right-skewed)**:\n",
        "   - The tail on the right side (higher values) is longer.\n",
        "   - Most data points are concentrated on the left.\n",
        "   - Mean > Median.\n",
        "\n",
        "2. **Negative Skew (Left-skewed)**:\n",
        "   - The tail on the left side (lower values) is longer.\n",
        "   - Most data points are concentrated on the right.\n",
        "   - Mean < Median.\n",
        "\n",
        "3. **Zero Skew (Symmetrical Distribution)**:\n",
        "   - Data is evenly distributed around the mean.\n",
        "   - Mean ≈ Median ≈ Mode.\n",
        "\n",
        "Importance:\n",
        "- Skewness helps identify the direction and extent of deviation from a normal distribution.\n",
        "- It is useful in data analysis to detect outliers, understand distribution shape, and choose appropriate statistical methods.\n",
        "\n",
        "Example:\n",
        "If exam scores of students are mostly high but a few students score very low, the distribution will be negatively skewed.\n",
        "\"\"\"\n"
      ],
      "metadata": {
        "id": "bk62A8Sxz-0P"
      }
    },
    {
      "cell_type": "markdown",
      "source": [
        "**Question 19.** What does it mean if a dataset is positively or negatively skewed?\n",
        "  - If a dataset is **positively skewed** (also called right-skewed), it means that most of the data values are concentrated on the lower (left) side of the distribution, with a few larger values stretching out the right tail. In this case, the mean is greater than the median, and the distribution has a long tail on the right. An example might be income distribution, where most people earn moderate amounts, but a few earn very high salaries, pulling the average up.\n",
        "\n",
        "  If a dataset is **negatively skewed** (also called left-skewed), it means that most of the data values are concentrated on the higher (right) side, with a few smaller values stretching out the left tail. In this case, the mean is less than the median, and the distribution has a long tail on the left. An example might be age at retirement, where most people retire around a certain age, but a few retire much earlier, lowering the average.\n",
        "\n"
      ],
      "metadata": {
        "id": "jYf9Ot-90Wmk"
      }
    },
    {
      "cell_type": "markdown",
      "source": [
        "**Question 20.** Define and explain kurtosis?\n",
        "  - Kurtosis is a statistical measure that describes the shape of a distribution's tails in relation to its overall shape. Specifically, it tells us whether the data have heavy or light tails compared to a normal distribution.\n",
        "\n",
        "Types of Kurtosis:\n",
        "\n",
        "1. **Mesokurtic**:\n",
        "   - Normal distribution.\n",
        "   - Moderate tails.\n",
        "   - Kurtosis ≈ 3 (excess kurtosis = 0).\n",
        "\n",
        "2. **Leptokurtic**:\n",
        "   - Heavy tails, sharp peak.\n",
        "   - More outliers than normal.\n",
        "   - Kurtosis > 3 (excess kurtosis > 0).\n",
        "\n",
        "3. **Platykurtic**:\n",
        "   - Light tails, flatter peak.\n",
        "   - Fewer outliers than normal.\n",
        "   - Kurtosis < 3 (excess kurtosis < 0).\n",
        "\n",
        "\n",
        "Why is Kurtosis Important?\n",
        "\n",
        "- It helps identify the likelihood of extreme values (outliers) in the dataset.\n",
        "- High kurtosis suggests a higher chance of extreme outcomes.\n",
        "- It is useful in finance, risk management, and statistical modeling.\n",
        "\n",
        "Example:\n",
        "If exam scores are mostly average but some students score extremely high or low, the distribution might have high kurtosis.\n"
      ],
      "metadata": {
        "id": "eSsSoI4602yc"
      }
    },
    {
      "cell_type": "markdown",
      "source": [
        "**Question 21.** What is the purpose of covariance?\n",
        "  - Covariance is a statistical measure that indicates the direction of the linear relationship between two variables.\n",
        "\n",
        "\n",
        "Purpose:\n",
        "\n",
        "- It shows whether two variables increase or decrease together (positive covariance) or if one increases while the other decreases (negative covariance).\n",
        "- A **positive covariance** means that as one variable increases, the other tends to increase as well.\n",
        "- A **negative covariance** means that as one variable increases, the other tends to decrease.\n",
        "- A **covariance near zero** indicates little to no linear relationship.\n",
        "\n",
        "\n",
        "Why is it Important?\n",
        "\n",
        "- Covariance helps understand how two variables move together.\n",
        "- It is a foundational concept used in **correlation**, **regression analysis**, and **portfolio theory** in finance.\n",
        "- However, since covariance is affected by the scale of the variables, it’s often converted to **correlation** for better interpretability.\n",
        "\n",
        "Example:\n",
        "If the height and weight of people tend to increase together, the covariance between height and weight will be positive.\n",
        "\n"
      ],
      "metadata": {
        "id": "GlSo4oNQ1bF6"
      }
    },
    {
      "cell_type": "markdown",
      "source": [
        "**Question 22.** What does correlation measure in statistics?\n",
        "  - Correlation is a statistical measure that describes the strength and direction of a linear relationship between two variables.\n",
        "\n",
        "What It Measures:\n",
        "\n",
        "- **Strength**: How closely two variables are related.\n",
        "- **Direction**: Whether the relationship is positive or negative.\n",
        "\n",
        "\n",
        "Types of Correlation:\n",
        "\n",
        "1. **Positive Correlation**:\n",
        "   - As one variable increases, the other also increases.\n",
        "   - Example: Height and weight.\n",
        "\n",
        "2. **Negative Correlation**:\n",
        "   - As one variable increases, the other decreases.\n",
        "   - Example: Time spent watching TV and academic performance.\n",
        "\n",
        "3. **Zero Correlation**:\n",
        "   - No linear relationship between the variables.\n",
        "   - Example: Shoe size and exam scores.\n",
        "\n",
        "\n",
        "Correlation Coefficient:\n",
        "\n",
        "- Measured using **Pearson’s correlation coefficient (r)**.\n",
        "- Range: **-1 to +1**\n",
        "  - +1 = perfect positive correlation\n",
        "  - -1 = perfect negative correlation\n",
        "  -  0 = no correlation\n",
        "\n",
        "Why is Correlation Important?\n",
        "\n",
        "- It helps in identifying and quantifying relationships between variables.\n",
        "- It is widely used in data analysis, machine learning, economics, psychology, and more.\n",
        "- Correlation does **not imply causation** — it only shows association.\n",
        "\n",
        "Example:\n",
        "If students who study more tend to score higher marks, study time and marks will show a strong positive correlation."
      ],
      "metadata": {
        "id": "wBGI_VWu1yrd"
      }
    },
    {
      "cell_type": "markdown",
      "source": [
        "**Question 23.** What is the difference between covariance and correlation?\n",
        "  - Covariance and correlation both measure the relationship between two variables, but they do so in slightly different ways. Covariance indicates the direction of the linear relationship—whether the variables move together (positive covariance) or in opposite directions (negative covariance). However, the actual value of covariance is difficult to interpret because it is affected by the units and scale of the variables, which makes it hard to compare across different datasets.\n",
        "\n",
        "  Correlation, on the other hand, not only shows the direction of the relationship but also the strength of that relationship, and it is standardized. The correlation coefficient (usually Pearson's r) ranges from -1 to +1, making it easier to interpret and compare. A value close to +1 indicates a strong positive relationship, close to -1 indicates a strong negative relationship, and around 0 indicates no linear relationship. Unlike covariance, correlation is unit-free and thus more useful in comparing relationships across variables with different units or scales.\n"
      ],
      "metadata": {
        "id": "DlAkEFTC2OxT"
      }
    },
    {
      "cell_type": "markdown",
      "source": [
        "**Questions 24.** What are some real-world applications of statistics?\n",
        "\n",
        "\n",
        "  - Statistics plays a vital role in analyzing data, making informed decisions, and solving real-world problems across various fields. Here are some key applications:\n",
        "\n",
        "1. **Healthcare and Medicine**:\n",
        "   - Designing clinical trials\n",
        "   - Analyzing treatment effectiveness\n",
        "   - Predicting disease outbreaks\n",
        "\n",
        "2. **Business and Marketing**:\n",
        "   - Customer behavior analysis\n",
        "   - Market research and trend forecasting\n",
        "   - Quality control and product improvement\n",
        "\n",
        "3. **Government and Public Policy**:\n",
        "   - Census and population studies\n",
        "   - Budget planning and resource allocation\n",
        "   - Crime and unemployment rate analysis\n",
        "\n",
        "4. **Education**:\n",
        "   - Analyzing student performance\n",
        "   - Designing standardized tests\n",
        "   - Evaluating teaching methods\n",
        "\n",
        "5. **Finance and Economics**:\n",
        "   - Risk assessment and investment analysis\n",
        "   - Economic forecasting\n",
        "   - Analyzing inflation and market trends\n",
        "\n",
        "6. **Sports**:\n",
        "   - Player performance analysis\n",
        "   - Strategy optimization\n",
        "   - Injury prediction and management\n",
        "\n",
        "7. **Environmental Science**:\n",
        "   - Weather forecasting\n",
        "   - Pollution monitoring\n",
        "   - Climate change studies\n",
        "\n",
        "\n",
        "Conclusion:\n",
        "Statistics is used almost everywhere — from making policy decisions to improving business operations and enhancing scientific research. It turns raw data into meaningful insights that drive better decisions.\n",
        "\n"
      ],
      "metadata": {
        "id": "pZ9si0Wc2iqf"
      }
    },
    {
      "cell_type": "markdown",
      "source": [
        "##Practical Questions"
      ],
      "metadata": {
        "id": "x1hUrXBG24aQ"
      }
    },
    {
      "cell_type": "markdown",
      "source": [
        "**Question 1.** How do you calculate the mean, median, and mode of a dataset?"
      ],
      "metadata": {
        "id": "X9rEYvmr3Jc5"
      }
    },
    {
      "cell_type": "code",
      "execution_count": 1,
      "metadata": {
        "colab": {
          "base_uri": "https://localhost:8080/"
        },
        "id": "C9UOeKqBp4of",
        "outputId": "86fb9553-0e61-4e27-81f1-44bbf382a290"
      },
      "outputs": [
        {
          "output_type": "stream",
          "name": "stdout",
          "text": [
            "Mean: 2.6666666666666665\n",
            "Median: 2\n",
            "Mode: 2\n"
          ]
        }
      ],
      "source": [
        "from statistics import mean, median, mode\n",
        "\n",
        "data = [4, 1, 2, 2, 5, 3, 2, 4, 1]\n",
        "\n",
        "# Calculate mean\n",
        "mean_value = mean(data)\n",
        "print(\"Mean:\", mean_value)\n",
        "\n",
        "# Calculate median\n",
        "median_value = median(data)\n",
        "print(\"Median:\", median_value)\n",
        "\n",
        "# Calculate mode\n",
        "mode_value = mode(data)\n",
        "print(\"Mode:\", mode_value)"
      ]
    },
    {
      "cell_type": "markdown",
      "source": [
        "**Question 2.** Write a Python program to compute the variance and standard deviation of a dataset."
      ],
      "metadata": {
        "id": "V7_pMguz3Syo"
      }
    },
    {
      "cell_type": "code",
      "source": [
        "from statistics import variance, stdev\n",
        "\n",
        "data = [4, 1, 2, 2, 5, 3, 2, 4, 1]\n",
        "\n",
        "# Calculate variance\n",
        "variance_value = variance(data)\n",
        "print(\"Variance:\", variance_value)\n",
        "\n",
        "# Calculate standard deviation\n",
        "std_dev_value = stdev(data)\n",
        "print(\"Standard Deviation:\", std_dev_value)"
      ],
      "metadata": {
        "colab": {
          "base_uri": "https://localhost:8080/"
        },
        "id": "N6DrnJ4n3N8V",
        "outputId": "efda5803-d4d1-4f0a-dc48-f7fd024ab3cd"
      },
      "execution_count": 2,
      "outputs": [
        {
          "output_type": "stream",
          "name": "stdout",
          "text": [
            "Variance: 2\n",
            "Standard Deviation: 1.4142135623730951\n"
          ]
        }
      ]
    },
    {
      "cell_type": "markdown",
      "source": [
        "**Question 3.** Create a dataset and classify it into nominal, ordinal, interval, and ratio types.\n"
      ],
      "metadata": {
        "id": "qu6_pger3lQl"
      }
    },
    {
      "cell_type": "code",
      "source": [
        "# Define datasets explicitly\n",
        "datasets = {\n",
        "  \"Nominal\": ['Apple', 'Banana', 'Cherry', 'Banana', 'Apple'],\n",
        "  \"Ordinal\": ['Poor', 'Average', 'Good', 'Excellent', 'Good'],\n",
        "  \"Interval\": [30, 40, 50, 60, 70],  # e.g., Temperature in Fahrenheit\n",
        "  \"Ratio\": [0, 5, 10, 15, 20]        # e.g., Weight in kg (has true zero)\n",
        "}\n",
        "\n",
        "# Function to print dataset info and classification\n",
        "def print_classification(name, data):\n",
        "  print(f\"{name} data: {data}\")\n",
        "  print(f\"Data type: {name}\\n\")\n",
        "\n",
        "for data_type, values in datasets.items():\n",
        "  print_classification(data_type, values)"
      ],
      "metadata": {
        "colab": {
          "base_uri": "https://localhost:8080/"
        },
        "id": "So83tMSD3e4_",
        "outputId": "6f5c19be-0965-4d02-c38e-cd644d7cf707"
      },
      "execution_count": 3,
      "outputs": [
        {
          "output_type": "stream",
          "name": "stdout",
          "text": [
            "Nominal data: ['Apple', 'Banana', 'Cherry', 'Banana', 'Apple']\n",
            "Data type: Nominal\n",
            "\n",
            "Ordinal data: ['Poor', 'Average', 'Good', 'Excellent', 'Good']\n",
            "Data type: Ordinal\n",
            "\n",
            "Interval data: [30, 40, 50, 60, 70]\n",
            "Data type: Interval\n",
            "\n",
            "Ratio data: [0, 5, 10, 15, 20]\n",
            "Data type: Ratio\n",
            "\n"
          ]
        }
      ]
    },
    {
      "cell_type": "markdown",
      "source": [
        "**Question 4.** Implement sampling techniques like random sampling and stratified sampling."
      ],
      "metadata": {
        "id": "RBqfLt7i4Xgf"
      }
    },
    {
      "cell_type": "code",
      "source": [
        "import random\n",
        "\n",
        "data = [\n",
        "  ('Alice', 'A'), ('Bob', 'B'), ('Charlie', 'A'), ('David', 'B'),\n",
        "  ('Eva', 'A'), ('Frank', 'B'), ('Grace', 'A'), ('Hank', 'B'),\n",
        "  ('Ivy', 'A'), ('Jack', 'B')\n",
        "]\n",
        "\n",
        "# Random sampling: pick 4 random items\n",
        "random_sample = random.sample(data, 4)\n",
        "print(\"Random Sample:\", random_sample)\n",
        "\n",
        "# Stratified sampling: sample 2 from each group\n",
        "# Group data by category\n",
        "group_A = [x for x in data if x[1] == 'A']\n",
        "group_B = [x for x in data if x[1] == 'B']\n",
        "\n",
        "stratified_sample = random.sample(group_A, 2) + random.sample(group_B, 2)\n",
        "print(\"Stratified Sample:\", stratified_sample)"
      ],
      "metadata": {
        "colab": {
          "base_uri": "https://localhost:8080/"
        },
        "id": "dVrrjqph37mv",
        "outputId": "dcbbc2fb-f93a-496a-d1ea-017c74295027"
      },
      "execution_count": 4,
      "outputs": [
        {
          "output_type": "stream",
          "name": "stdout",
          "text": [
            "Random Sample: [('Eva', 'A'), ('Hank', 'B'), ('Alice', 'A'), ('Frank', 'B')]\n",
            "Stratified Sample: [('Eva', 'A'), ('Alice', 'A'), ('Hank', 'B'), ('David', 'B')]\n"
          ]
        }
      ]
    },
    {
      "cell_type": "markdown",
      "source": [
        "**Question 5.** Write a Python function to calculate the range of a dataset."
      ],
      "metadata": {
        "id": "-RIREpa-4vdB"
      }
    },
    {
      "cell_type": "code",
      "source": [
        "def calculate_range(data):\n",
        "  return max(data) - min(data)\n",
        "\n",
        "# Example usage:\n",
        "data = [4, 1, 7, 9, 3]\n",
        "range_value = calculate_range(data)\n",
        "print(\"Range:\", range_value)"
      ],
      "metadata": {
        "colab": {
          "base_uri": "https://localhost:8080/"
        },
        "id": "sm8iVaDi4d_C",
        "outputId": "ae59514f-8f18-421a-ff29-4d800a4033ec"
      },
      "execution_count": 5,
      "outputs": [
        {
          "output_type": "stream",
          "name": "stdout",
          "text": [
            "Range: 8\n"
          ]
        }
      ]
    },
    {
      "cell_type": "markdown",
      "source": [
        "**Question 6.** Create a dataset and plot its histogram to visualize skewness.\n"
      ],
      "metadata": {
        "id": "7xqYkpd747XC"
      }
    },
    {
      "cell_type": "code",
      "source": [
        "import matplotlib.pyplot as plt\n",
        "import numpy as np\n",
        "\n",
        "# Create a right-skewed dataset using exponential distribution\n",
        "data = np.random.exponential(scale=2, size=1000)\n",
        "\n",
        "plt.hist(data, bins=30, color='skyblue', edgecolor='black')\n",
        "plt.title(\"Histogram Showing Right Skewness\")\n",
        "plt.xlabel(\"Value\")\n",
        "plt.ylabel(\"Frequency\")\n",
        "plt.show()"
      ],
      "metadata": {
        "colab": {
          "base_uri": "https://localhost:8080/",
          "height": 472
        },
        "id": "n-V8lajj40_g",
        "outputId": "23add14f-9792-477d-b717-3ec4ba43e3d9"
      },
      "execution_count": 6,
      "outputs": [
        {
          "output_type": "display_data",
          "data": {
            "text/plain": [
              "<Figure size 640x480 with 1 Axes>"
            ],
            "image/png": "[encoded data removed]"
          },
          "metadata": {}
        }
      ]
    },
    {
      "cell_type": "markdown",
      "source": [
        "**Question 7.** Calculate skewness and kurtosis of a dataset using Python libraries.\n"
      ],
      "metadata": {
        "id": "rbKMw_UF5Sko"
      }
    },
    {
      "cell_type": "code",
      "source": [
        "from scipy.stats import skew, kurtosis\n",
        "\n",
        "data = [4, 1, 7, 9, 3, 2, 8, 5, 6, 10]\n",
        "\n",
        "skewness = skew(data)\n",
        "kurt = kurtosis(data)  # by default, Fisher’s definition (excess kurtosis)\n",
        "\n",
        "print(\"Skewness:\", skewness)\n",
        "print(\"Kurtosis:\", kurt)"
      ],
      "metadata": {
        "colab": {
          "base_uri": "https://localhost:8080/"
        },
        "id": "-WOuGIl55MFY",
        "outputId": "fb1517cc-79e3-4175-e51b-6d071487d53c"
      },
      "execution_count": 7,
      "outputs": [
        {
          "output_type": "stream",
          "name": "stdout",
          "text": [
            "Skewness: 0.0\n",
            "Kurtosis: -1.2242424242424244\n"
          ]
        }
      ]
    },
    {
      "cell_type": "markdown",
      "source": [
        "**Question 8.** Generate a dataset and demonstrate positive and negative skewness."
      ],
      "metadata": {
        "id": "xV8IMqLy5e_u"
      }
    },
    {
      "cell_type": "code",
      "source": [
        "import numpy as np\n",
        "import matplotlib.pyplot as plt\n",
        "from scipy.stats import skew\n",
        "\n",
        "# Positive skew (right-skewed) - Exponential distribution\n",
        "data_pos = np.random.exponential(scale=2, size=1000)\n",
        "\n",
        "# Negative skew (left-skewed) - Take negative of exponential and shift\n",
        "data_neg = -np.random.exponential(scale=2, size=1000) + 8\n",
        "\n",
        "print(\"Skewness of positive skew data:\", skew(data_pos))\n",
        "print(\"Skewness of negative skew data:\", skew(data_neg))\n",
        "\n",
        "# Plot histograms\n",
        "plt.figure(figsize=(12,5))\n",
        "\n",
        "plt.subplot(1, 2, 1)\n",
        "plt.hist(data_pos, bins=30, color='orange', edgecolor='black')\n",
        "plt.title(\"Positive Skewness\")\n",
        "plt.xlabel(\"Value\")\n",
        "plt.ylabel(\"Frequency\")\n",
        "\n",
        "plt.subplot(1, 2, 2)\n",
        "plt.hist(data_neg, bins=30, color='green', edgecolor='black')\n",
        "plt.title(\"Negative Skewness\")\n",
        "plt.xlabel(\"Value\")\n",
        "plt.ylabel(\"Frequency\")\n",
        "\n",
        "plt.tight_layout()\n",
        "plt.show()"
      ],
      "metadata": {
        "colab": {
          "base_uri": "https://localhost:8080/",
          "height": 543
        },
        "id": "ITdE7mts5XnG",
        "outputId": "d0773a5b-2c56-4048-acdb-e6e5a703cbd8"
      },
      "execution_count": 8,
      "outputs": [
        {
          "output_type": "stream",
          "name": "stdout",
          "text": [
            "Skewness of positive skew data: 1.7216738319232656\n",
            "Skewness of negative skew data: -2.030097025573959\n"
          ]
        },
        {
          "output_type": "display_data",
          "data": {
            "text/plain": [
              "<Figure size 1200x500 with 2 Axes>"
            ],
            "image/png": "[encoded data removed]"
          },
          "metadata": {}
        }
      ]
    },
    {
      "cell_type": "markdown",
      "source": [
        "**Question 9.** Write a Python script to calculate covariance between two datasets."
      ],
      "metadata": {
        "id": "erSbYdhF5ril"
      }
    },
    {
      "cell_type": "code",
      "source": [
        "def calculate_covariance(x, y):\n",
        "  if len(x) != len(y):\n",
        "    raise ValueError(\"Datasets must have the same length\")\n",
        "  n = len(x)\n",
        "  mean_x = sum(x) / n\n",
        "  mean_y = sum(y) / n\n",
        "  covariance = sum((xi - mean_x) * (yi - mean_y) for xi, yi in zip(x, y)) / (n - 1)\n",
        "  return covariance\n",
        "\n",
        "# Example datasets\n",
        "x = [2, 4, 6, 8, 10]\n",
        "y = [1, 3, 5, 7, 9]\n",
        "\n",
        "cov = calculate_covariance(x, y)\n",
        "print(\"Covariance:\", cov)"
      ],
      "metadata": {
        "colab": {
          "base_uri": "https://localhost:8080/"
        },
        "id": "kjEOB7YY5oYI",
        "outputId": "3cde78c1-b8e1-4ca6-a611-4b9c0b8a914f"
      },
      "execution_count": 9,
      "outputs": [
        {
          "output_type": "stream",
          "name": "stdout",
          "text": [
            "Covariance: 10.0\n"
          ]
        }
      ]
    },
    {
      "cell_type": "markdown",
      "source": [
        "**Question 10.** Write a Python script to calculate the correlation coefficient between two datasets."
      ],
      "metadata": {
        "id": "IrUIlXxo5-Qy"
      }
    },
    {
      "cell_type": "code",
      "source": [
        "def calculate_correlation(x, y):\n",
        "  if len(x) != len(y):\n",
        "    raise ValueError(\"Datasets must have the same length\")\n",
        "  n = len(x)\n",
        "  mean_x = sum(x) / n\n",
        "  mean_y = sum(y) / n\n",
        "\n",
        "  numerator = sum((xi - mean_x) * (yi - mean_y) for xi, yi in zip(x, y))\n",
        "  denominator_x = sum((xi - mean_x) ** 2 for xi in x)\n",
        "  denominator_y = sum((yi - mean_y) ** 2 for yi in y)\n",
        "\n",
        "  denominator = (denominator_x * denominator_y) ** 0.5\n",
        "  if denominator == 0:\n",
        "    return 0  # or raise an error for zero variance\n",
        "\n",
        "  correlation = numerator / denominator\n",
        "  return correlation\n",
        "\n",
        "# Example datasets\n",
        "x = [2, 4, 6, 8, 10]\n",
        "y = [1, 3, 5, 7, 9]\n",
        "\n",
        "corr = calculate_correlation(x, y)\n",
        "print(\"Correlation coefficient:\", corr)"
      ],
      "metadata": {
        "colab": {
          "base_uri": "https://localhost:8080/"
        },
        "id": "XxPqckX454Fl",
        "outputId": "7394af4c-92cd-44ca-da48-e923df57a3c3"
      },
      "execution_count": 10,
      "outputs": [
        {
          "output_type": "stream",
          "name": "stdout",
          "text": [
            "Correlation coefficient: 1.0\n"
          ]
        }
      ]
    },
    {
      "cell_type": "markdown",
      "source": [
        "**Question 11.** Create a scatter plot to visualize the relationship between two variables."
      ],
      "metadata": {
        "id": "FAKWV0d-6RpH"
      }
    },
    {
      "cell_type": "code",
      "source": [
        "import matplotlib.pyplot as plt\n",
        "\n",
        "# Example data\n",
        "x = [2, 4, 6, 8, 10]\n",
        "y = [1, 3, 5, 7, 9]\n",
        "\n",
        "plt.scatter(x, y, color='blue', marker='o')\n",
        "plt.title(\"Scatter Plot of Two Variables\")\n",
        "plt.xlabel(\"Variable X\")\n",
        "plt.ylabel(\"Variable Y\")\n",
        "plt.grid(True)\n",
        "plt.show()"
      ],
      "metadata": {
        "colab": {
          "base_uri": "https://localhost:8080/",
          "height": 472
        },
        "id": "rwn9_w5b6NOh",
        "outputId": "c7ac275e-8992-4acd-fe0f-5897ab73352c"
      },
      "execution_count": 11,
      "outputs": [
        {
          "output_type": "display_data",
          "data": {
            "text/plain": [
              "<Figure size 640x480 with 1 Axes>"
            ],
            "image/png": "[encoded data removed]"
          },
          "metadata": {}
        }
      ]
    },
    {
      "cell_type": "markdown",
      "source": [
        "**Question 12.** Implement and compare simple random sampling and systematic sampling."
      ],
      "metadata": {
        "id": "0sHsS0jc6exy"
      }
    },
    {
      "cell_type": "code",
      "source": [
        "import random\n",
        "\n",
        "data = list(range(1, 21))  # Dataset: numbers 1 to 20\n",
        "sample_size = 5\n",
        "\n",
        "# Simple Random Sampling: randomly pick sample_size elements\n",
        "def simple_random_sampling(data, sample_size):\n",
        "  return random.sample(data, sample_size)\n",
        "\n",
        "# Systematic Sampling: pick every k-th element after a random start\n",
        "def systematic_sampling(data, sample_size):\n",
        "  n = len(data)\n",
        "  k = n // sample_size\n",
        "  start = random.randint(0, k - 1)\n",
        "  return [data[i] for i in range(start, n, k)][:sample_size]\n",
        "\n",
        "random_sample = simple_random_sampling(data, sample_size)\n",
        "systematic_sample = systematic_sampling(data, sample_size)\n",
        "\n",
        "print(\"Original Data:\", data)\n",
        "print(\"Simple Random Sample:\", random_sample)\n",
        "print(\"Systematic Sample:\", systematic_sample)"
      ],
      "metadata": {
        "colab": {
          "base_uri": "https://localhost:8080/"
        },
        "id": "If_GCHn16Wjf",
        "outputId": "aa61b29e-dda0-4c0d-a68d-29ce0eff9618"
      },
      "execution_count": 12,
      "outputs": [
        {
          "output_type": "stream",
          "name": "stdout",
          "text": [
            "Original Data: [1, 2, 3, 4, 5, 6, 7, 8, 9, 10, 11, 12, 13, 14, 15, 16, 17, 18, 19, 20]\n",
            "Simple Random Sample: [7, 1, 10, 8, 5]\n",
            "Systematic Sample: [2, 6, 10, 14, 18]\n"
          ]
        }
      ]
    },
    {
      "cell_type": "markdown",
      "source": [
        "**Question 13.** Calculate the mean, median, and mode of grouped data."
      ],
      "metadata": {
        "id": "LX8fOdQJ62uS"
      }
    },
    {
      "cell_type": "code",
      "source": [
        "# Grouped data\n",
        "class_intervals = [(10, 20), (20, 30), (30, 40), (40, 50), (50, 60)]\n",
        "frequencies = [5, 8, 12, 7, 3]\n",
        "\n",
        "# Calculate class midpoints (x)\n",
        "midpoints = [(low + high) / 2 for low, high in class_intervals]\n",
        "\n",
        "# Total frequency\n",
        "N = sum(frequencies)\n",
        "\n",
        "# ---- Mean ----\n",
        "mean = sum(f * x for f, x in zip(frequencies, midpoints)) / N\n",
        "\n",
        "# ---- Median ----\n",
        "# Step 1: Calculate cumulative frequencies\n",
        "cum_freq = []\n",
        "cumulative = 0\n",
        "for f in frequencies:\n",
        "    cumulative += f\n",
        "    cum_freq.append(cumulative)\n",
        "\n",
        "# Step 2: Find median class (class where cumulative frequency >= N/2)\n",
        "median_class_index = next(i for i, cf in enumerate(cum_freq) if cf >= N/2)\n",
        "\n",
        "# Median class details\n",
        "L = class_intervals[median_class_index][0]       # Lower boundary of median class\n",
        "f_m = frequencies[median_class_index]            # Frequency of median class\n",
        "cf_before = cum_freq[median_class_index - 1] if median_class_index != 0 else 0  # Cumulative freq before median class\n",
        "h = class_intervals[median_class_index][1] - L  # Class width\n",
        "\n",
        "# Median formula\n",
        "median = L + ((N/2 - cf_before) / f_m) * h\n",
        "\n",
        "# ---- Mode ----\n",
        "# Modal class is class with highest frequency\n",
        "modal_class_index = frequencies.index(max(frequencies))\n",
        "\n",
        "L_modal = class_intervals[modal_class_index][0]\n",
        "f_modal = frequencies[modal_class_index]\n",
        "f1 = frequencies[modal_class_index - 1] if modal_class_index != 0 else 0\n",
        "f2 = frequencies[modal_class_index + 1] if modal_class_index != len(frequencies) - 1 else 0\n",
        "h_modal = class_intervals[modal_class_index][1] - L_modal\n",
        "\n",
        "# Mode formula\n",
        "mode = L_modal + ((f_modal - f1) / ((2 * f_modal) - f1 - f2)) * h_modal\n",
        "\n",
        "# ---- Print results ----\n",
        "print(f\"Mean: {mean:.2f}\")\n",
        "print(f\"Median: {median:.2f}\")\n",
        "print(f\"Mode: {mode:.2f}\")"
      ],
      "metadata": {
        "colab": {
          "base_uri": "https://localhost:8080/"
        },
        "id": "IEgIrPLJ6nUw",
        "outputId": "24e3d747-2d2a-4ba2-da6c-02ea800ac3db"
      },
      "execution_count": 13,
      "outputs": [
        {
          "output_type": "stream",
          "name": "stdout",
          "text": [
            "Mean: 33.57\n",
            "Median: 33.75\n",
            "Mode: 34.44\n"
          ]
        }
      ]
    },
    {
      "cell_type": "markdown",
      "source": [
        "**Question 14.** Simulate data using Python and calculate its central tendency and dispersion."
      ],
      "metadata": {
        "id": "X595dO1q7LUF"
      }
    },
    {
      "cell_type": "code",
      "source": [
        "import numpy as np\n",
        "from scipy import stats\n",
        "\n",
        "# Simulate dataset of 1000 points from a normal distribution (mean=50, std=10)\n",
        "data = np.random.normal(loc=50, scale=10, size=1000)\n",
        "\n",
        "# Central tendency\n",
        "mean = np.mean(data)\n",
        "median = np.median(data)\n",
        "mode = stats.mode(data, keepdims=True).mode[0]\n",
        "\n",
        "# Dispersion\n",
        "variance = np.var(data, ddof=1)  # Sample variance (ddof=1)\n",
        "std_dev = np.std(data, ddof=1)   # Sample standard deviation\n",
        "data_range = np.max(data) - np.min(data)\n",
        "\n",
        "print(f\"Mean: {mean:.2f}\")\n",
        "print(f\"Median: {median:.2f}\")\n",
        "print(f\"Mode: {mode:.2f}\")\n",
        "print(f\"Variance: {variance:.2f}\")\n",
        "print(f\"Standard Deviation: {std_dev:.2f}\")\n",
        "print(f\"Range: {data_range:.2f}\")"
      ],
      "metadata": {
        "colab": {
          "base_uri": "https://localhost:8080/"
        },
        "id": "pxZz4qlM7FuQ",
        "outputId": "234890e8-3899-4315-db75-9b9034b1e98e"
      },
      "execution_count": 14,
      "outputs": [
        {
          "output_type": "stream",
          "name": "stdout",
          "text": [
            "Mean: 50.07\n",
            "Median: 49.72\n",
            "Mode: 18.73\n",
            "Variance: 102.39\n",
            "Standard Deviation: 10.12\n",
            "Range: 65.48\n"
          ]
        }
      ]
    },
    {
      "cell_type": "markdown",
      "source": [
        "**Question 15.**  Use NumPy or pandas to summarize a dataset’s descriptive statistics."
      ],
      "metadata": {
        "id": "O50wSqL27VOo"
      }
    },
    {
      "cell_type": "code",
      "source": [
        "import numpy as np\n",
        "\n",
        "data = np.array([4, 8, 6, 5, 3, 7, 9, 2, 1, 5])\n",
        "\n",
        "print(\"Mean:\", np.mean(data))\n",
        "print(\"Median:\", np.median(data))\n",
        "print(\"Variance:\", np.var(data, ddof=1))  # sample variance\n",
        "print(\"Standard Deviation:\", np.std(data, ddof=1))  # sample std dev\n",
        "print(\"Minimum:\", np.min(data))\n",
        "print(\"Maximum:\", np.max(data))\n",
        "print(\"Range:\", np.max(data) - np.min(data))"
      ],
      "metadata": {
        "colab": {
          "base_uri": "https://localhost:8080/"
        },
        "id": "aGn6xI7b7PyV",
        "outputId": "e992d9af-111f-42af-a694-c6ab12be288e"
      },
      "execution_count": 15,
      "outputs": [
        {
          "output_type": "stream",
          "name": "stdout",
          "text": [
            "Mean: 5.0\n",
            "Median: 5.0\n",
            "Variance: 6.666666666666667\n",
            "Standard Deviation: 2.581988897471611\n",
            "Minimum: 1\n",
            "Maximum: 9\n",
            "Range: 8\n"
          ]
        }
      ]
    },
    {
      "cell_type": "markdown",
      "source": [
        "**Question 16.** Plot a boxplot to understand the spread and identify outliers."
      ],
      "metadata": {
        "id": "sM3A9K_v7gwn"
      }
    },
    {
      "cell_type": "code",
      "source": [
        "import matplotlib.pyplot as plt\n",
        "import seaborn as sns\n",
        "import numpy as np\n",
        "\n",
        "# Sample data with some outliers\n",
        "data = np.array([10, 12, 14, 15, 18, 21, 22, 23, 24, 30, 35, 100, 105])\n",
        "\n",
        "sns.boxplot(data=data)\n",
        "plt.title(\"Boxplot to Show Spread and Outliers\")\n",
        "plt.show()"
      ],
      "metadata": {
        "colab": {
          "base_uri": "https://localhost:8080/",
          "height": 433
        },
        "id": "rU6Lnbuv7a5x",
        "outputId": "34b0498a-0d6e-4061-cdb7-14307adab192"
      },
      "execution_count": 16,
      "outputs": [
        {
          "output_type": "display_data",
          "data": {
            "text/plain": [
              "<Figure size 640x480 with 1 Axes>"
            ],
            "image/png": "[encoded data removed]"
          },
          "metadata": {}
        }
      ]
    },
    {
      "cell_type": "markdown",
      "source": [
        "**Question 17.** Calculate the interquartile range (IQR) of a dataset."
      ],
      "metadata": {
        "id": "TCJVyllj7_gG"
      }
    },
    {
      "cell_type": "code",
      "source": [
        "import numpy as np\n",
        "\n",
        "data = [10, 12, 14, 15, 18, 21, 22, 23, 24, 30, 35, 100, 105]\n",
        "\n",
        "Q1 = np.percentile(data, 25)  # 25th percentile\n",
        "Q3 = np.percentile(data, 75)  # 75th percentile\n",
        "\n",
        "IQR = Q3 - Q1\n",
        "\n",
        "print(f\"Q1 (25th percentile): {Q1}\")\n",
        "print(f\"Q3 (75th percentile): {Q3}\")\n",
        "print(f\"Interquartile Range (IQR): {IQR}\")"
      ],
      "metadata": {
        "colab": {
          "base_uri": "https://localhost:8080/"
        },
        "id": "wGxSTUgA7lPY",
        "outputId": "d4d468ca-5b5e-4870-b83d-e3abc3853287"
      },
      "execution_count": 17,
      "outputs": [
        {
          "output_type": "stream",
          "name": "stdout",
          "text": [
            "Q1 (25th percentile): 15.0\n",
            "Q3 (75th percentile): 30.0\n",
            "Interquartile Range (IQR): 15.0\n"
          ]
        }
      ]
    },
    {
      "cell_type": "markdown",
      "source": [
        "**Question 18.** Implement Z-score normalization and explain its significance."
      ],
      "metadata": {
        "id": "j7j2ua6z8KbO"
      }
    },
    {
      "cell_type": "code",
      "source": [
        "import numpy as np\n",
        "\n",
        "def z_score_normalize(data):\n",
        "  mean = np.mean(data)\n",
        "  std_dev = np.std(data, ddof=1)  # Sample standard deviation\n",
        "  normalized_data = [(x - mean) / std_dev for x in data]\n",
        "  return normalized_data\n",
        "\n",
        "# Example dataset\n",
        "data = [10, 12, 14, 15, 18, 21, 22, 23, 24, 30, 35]\n",
        "\n",
        "normalized = z_score_normalize(data)\n",
        "print(\"Z-score Normalized Data:\", normalized)"
      ],
      "metadata": {
        "colab": {
          "base_uri": "https://localhost:8080/"
        },
        "id": "iMu144fc8E1T",
        "outputId": "355b0ab1-2e31-4fdc-cf57-1a8a672c7e60"
      },
      "execution_count": 18,
      "outputs": [
        {
          "output_type": "stream",
          "name": "stdout",
          "text": [
            "Z-score Normalized Data: [np.float64(-1.3578358073320707), np.float64(-1.0957973181978113), np.float64(-0.8337588290635521), np.float64(-0.7027395844964225), np.float64(-0.30968185079503363), np.float64(0.08337588290635525), np.float64(0.21439512747348488), np.float64(0.34541437204061454), np.float64(0.47643361660774414), np.float64(1.2625490840105218), np.float64(1.91764530684617)]\n"
          ]
        }
      ]
    },
    {
      "cell_type": "markdown",
      "source": [
        "**Question 19.** Compare two datasets using their standard deviations."
      ],
      "metadata": {
        "id": "2j2asCf88dps"
      }
    },
    {
      "cell_type": "code",
      "source": [
        "import numpy as np\n",
        "\n",
        "data1 = [10, 12, 14, 15, 18, 21, 22]\n",
        "data2 = [8, 9, 10, 11, 12, 13, 14]\n",
        "\n",
        "std_dev1 = np.std(data1, ddof=1)  # Sample standard deviation\n",
        "std_dev2 = np.std(data2, ddof=1)\n",
        "\n",
        "print(f\"Standard Deviation of Dataset 1: {std_dev1:.2f}\")\n",
        "print(f\"Standard Deviation of Dataset 2: {std_dev2:.2f}\")\n",
        "\n",
        "if std_dev1 > std_dev2:\n",
        "  print(\"Dataset 1 has greater variability (more spread out values).\")\n",
        "elif std_dev1 < std_dev2:\n",
        "  print(\"Dataset 2 has greater variability (more spread out values).\")\n",
        "else:\n",
        "  print(\"Both datasets have the same variability.\")"
      ],
      "metadata": {
        "colab": {
          "base_uri": "https://localhost:8080/"
        },
        "id": "GrIHbNdI8UhP",
        "outputId": "e4e78725-4c73-4b46-ac82-08f7c377a3bb"
      },
      "execution_count": 19,
      "outputs": [
        {
          "output_type": "stream",
          "name": "stdout",
          "text": [
            "Standard Deviation of Dataset 1: 4.51\n",
            "Standard Deviation of Dataset 2: 2.16\n",
            "Dataset 1 has greater variability (more spread out values).\n"
          ]
        }
      ]
    },
    {
      "cell_type": "markdown",
      "source": [
        "**Question 21.** Write a Python program to visualize covariance using a heatmap."
      ],
      "metadata": {
        "id": "dTPiYRoc8rbK"
      }
    },
    {
      "cell_type": "code",
      "source": [
        "import numpy as np\n",
        "import seaborn as sns\n",
        "import matplotlib.pyplot as plt\n",
        "\n",
        "# Sample data: 3 variables with 100 samples each\n",
        "np.random.seed(0)\n",
        "x = np.random.normal(0, 1, 100)\n",
        "y = 2 * x + np.random.normal(0, 1, 100)\n",
        "z = np.random.normal(5, 2, 100)\n",
        "\n",
        "data = np.vstack([x, y, z])\n",
        "\n",
        "# Calculate covariance matrix\n",
        "cov_matrix = np.cov(data)\n",
        "\n",
        "# Plot heatmap\n",
        "sns.heatmap(cov_matrix, annot=True, fmt=\".2f\", cmap=\"coolwarm\",\n",
        "            xticklabels=['X', 'Y', 'Z'], yticklabels=['X', 'Y', 'Z'])\n",
        "plt.title(\"Covariance Matrix Heatmap\")\n",
        "plt.show()"
      ],
      "metadata": {
        "colab": {
          "base_uri": "https://localhost:8080/",
          "height": 452
        },
        "id": "UC_T96Ob8kkT",
        "outputId": "a381eeab-153e-4537-a916-5e8ebf4ae8b2"
      },
      "execution_count": 20,
      "outputs": [
        {
          "output_type": "display_data",
          "data": {
            "text/plain": [
              "<Figure size 640x480 with 2 Axes>"
            ],
            "image/png": "[encoded data removed]"
          },
          "metadata": {}
        }
      ]
    },
    {
      "cell_type": "markdown",
      "source": [
        "**Question 22.** Use seaborn to create a correlation matrix for a dataset.\n"
      ],
      "metadata": {
        "id": "etSeJXx-839R"
      }
    },
    {
      "cell_type": "code",
      "source": [
        "import seaborn as sns\n",
        "import matplotlib.pyplot as plt\n",
        "import pandas as pd\n",
        "import numpy as np\n",
        "\n",
        "# Create sample dataset with 4 variables and 100 samples\n",
        "np.random.seed(42)\n",
        "data = pd.DataFrame({\n",
        "  'A': np.random.normal(0, 1, 100),\n",
        "  'B': np.random.normal(5, 2, 100),\n",
        "  'C': np.random.normal(-3, 5, 100),\n",
        "  'D': np.random.normal(10, 3, 100)\n",
        "})\n",
        "\n",
        "# Calculate correlation matrix\n",
        "corr_matrix = data.corr()\n",
        "\n",
        "# Plot correlation heatmap\n",
        "sns.heatmap(corr_matrix, annot=True, cmap='coolwarm', center=0)\n",
        "plt.title('Correlation Matrix Heatmap')\n",
        "plt.show()"
      ],
      "metadata": {
        "colab": {
          "base_uri": "https://localhost:8080/",
          "height": 452
        },
        "id": "SwEVQs2h8xDX",
        "outputId": "66cccd7d-2d11-402b-d919-059bb9336601"
      },
      "execution_count": 21,
      "outputs": [
        {
          "output_type": "display_data",
          "data": {
            "text/plain": [
              "<Figure size 640x480 with 2 Axes>"
            ],
            "image/png": "[encoded data removed]"
          },
          "metadata": {}
        }
      ]
    },
    {
      "cell_type": "markdown",
      "source": [
        "**Question 22.** Generate a dataset and implement both variance and standard deviation computations."
      ],
      "metadata": {
        "id": "6CdFKbAp9Fmw"
      }
    },
    {
      "cell_type": "code",
      "source": [
        "import numpy as np\n",
        "\n",
        "# Generate dataset: 50 random numbers from a normal distribution\n",
        "data = np.random.normal(loc=100, scale=15, size=50)\n",
        "\n",
        "# Calculate variance (sample)\n",
        "variance = np.var(data, ddof=1)\n",
        "\n",
        "# Calculate standard deviation (sample)\n",
        "std_dev = np.std(data, ddof=1)\n",
        "\n",
        "print(f\"Variance: {variance:.2f}\")\n",
        "print(f\"Standard Deviation: {std_dev:.2f}\")"
      ],
      "metadata": {
        "colab": {
          "base_uri": "https://localhost:8080/"
        },
        "id": "j2LQL2Tr9ASE",
        "outputId": "7c9f3b7e-b222-4751-886e-4033898b977d"
      },
      "execution_count": 22,
      "outputs": [
        {
          "output_type": "stream",
          "name": "stdout",
          "text": [
            "Variance: 257.84\n",
            "Standard Deviation: 16.06\n"
          ]
        }
      ]
    },
    {
      "cell_type": "markdown",
      "source": [
        "**Question 23.** Visualize skewness and kurtosis using Python libraries like matplotlib or seaborn."
      ],
      "metadata": {
        "id": "You8bKWD9Q4E"
      }
    },
    {
      "cell_type": "code",
      "source": [
        "import numpy as np\n",
        "import seaborn as sns\n",
        "import matplotlib.pyplot as plt\n",
        "from scipy.stats import skew, kurtosis\n",
        "\n",
        "# Generate dataset (skewed distribution example)\n",
        "data = np.random.gamma(shape=2, scale=2, size=1000)\n",
        "\n",
        "# Calculate skewness and kurtosis\n",
        "data_skewness = skew(data)\n",
        "data_kurtosis = kurtosis(data)\n",
        "\n",
        "# Plot histogram with density curve\n",
        "sns.histplot(data, kde=True, color='skyblue', bins=30)\n",
        "plt.title('Dataset Distribution with Skewness & Kurtosis')\n",
        "\n",
        "# Annotate skewness and kurtosis\n",
        "plt.text(x=max(data)*0.6, y=60, s=f'Skewness: {data_skewness:.2f}', fontsize=12)\n",
        "plt.text(x=max(data)*0.6, y=50, s=f'Kurtosis: {data_kurtosis:.2f}', fontsize=12)\n",
        "\n",
        "plt.show()"
      ],
      "metadata": {
        "colab": {
          "base_uri": "https://localhost:8080/",
          "height": 452
        },
        "id": "hFxcWC-99LG7",
        "outputId": "b527de84-bcf9-4251-e5ad-734ed432bc1f"
      },
      "execution_count": 23,
      "outputs": [
        {
          "output_type": "display_data",
          "data": {
            "text/plain": [
              "<Figure size 640x480 with 1 Axes>"
            ],
            "image/png": "[encoded data removed]"
          },
          "metadata": {}
        }
      ]
    },
    {
      "cell_type": "markdown",
      "source": [
        "**Question 24.** Implement the Pearson and Spearman correlation coefficients for a dataset."
      ],
      "metadata": {
        "id": "L2RpCcKD9cKx"
      }
    },
    {
      "cell_type": "code",
      "source": [
        "import numpy as np\n",
        "from scipy.stats import pearsonr, spearmanr\n",
        "\n",
        "# Sample datasets\n",
        "x = np.array([10, 20, 30, 40, 50, 60, 70])\n",
        "y = np.array([12, 24, 33, 37, 52, 65, 70])\n",
        "\n",
        "# Pearson correlation (measures linear relationship)\n",
        "pearson_corr, pearson_p = pearsonr(x, y)\n",
        "\n",
        "# Spearman correlation (measures monotonic relationship)\n",
        "spearman_corr, spearman_p = spearmanr(x, y)\n",
        "\n",
        "print(f\"Pearson correlation coefficient: {pearson_corr:.3f}, p-value: {pearson_p:.3f}\")\n",
        "print(f\"Spearman correlation coefficient: {spearman_corr:.3f}, p-value: {spearman_p:.3f}\")"
      ],
      "metadata": {
        "colab": {
          "base_uri": "https://localhost:8080/"
        },
        "id": "3UOW73X59WIC",
        "outputId": "b724edc2-a3e8-4c58-ed33-9805050e7375"
      },
      "execution_count": 24,
      "outputs": [
        {
          "output_type": "stream",
          "name": "stdout",
          "text": [
            "Pearson correlation coefficient: 0.992, p-value: 0.000\n",
            "Spearman correlation coefficient: 1.000, p-value: 0.000\n"
          ]
        }
      ]
    }
  ]
}